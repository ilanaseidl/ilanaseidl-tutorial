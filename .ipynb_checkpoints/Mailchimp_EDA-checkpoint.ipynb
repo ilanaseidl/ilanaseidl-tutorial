{
 "cells": [
  {
   "cell_type": "markdown",
   "metadata": {},
   "source": [
    "http://ilanaseidl.github.io"
   ]
  },
  {
   "cell_type": "markdown",
   "metadata": {},
   "source": [
    "# Optimizing Newsletter Metrics Through Data Collection, Analysis, and Visualization"
   ]
  },
  {
   "cell_type": "markdown",
   "metadata": {},
   "source": [
    "#### by Ilana Seidl"
   ]
  },
  {
   "cell_type": "markdown",
   "metadata": {},
   "source": [
    "## Introduction"
   ]
  },
  {
   "cell_type": "markdown",
   "metadata": {},
   "source": [
    "In July 2019, I started The Root, a weekly financial wellness newsletter that aims to foster conversations about money. Until now, I have only been using Mailchimp, an automated marketing platform, to measure The Root's growth, success, and impact. In just six months, The Root has grown to over 900 subscribers, has an average 40% open rate, and a 5% average click rate. The industry standard is an open rate of less than 18% and a click rate of 2%. A large part of my time this semester has been dedicated to The Root's success. Because of this, I want to dedicate this tutorial to optimizing, understanding, and visualizing the data gathered by Mailchimp-- beyond the standard graphs it provides on its dashboard. Through this tutorial, I hope to gain a better understanding of email metrics and various techniques in data exploration, as well as provide a guide for others looking to gain insight on their email marketing efforts.\n",
    "\n",
    "****"
   ]
  },
  {
   "cell_type": "markdown",
   "metadata": {},
   "source": [
    "## Overview"
   ]
  },
  {
   "cell_type": "markdown",
   "metadata": {},
   "source": [
    "### Data Collection"
   ]
  },
  {
   "cell_type": "markdown",
   "metadata": {},
   "source": [
    "The data for this tutorial was downloaded using Mailchimp's [export feature.](https://eepurl.com/dyilCL) Through this feature, Mailchimp provides a copy of account data. Mailchimp provides the data in a ZIP file which was downloadable from my account. In this ZIP file, Mailchimp includes a significant amount of data in folders and individual files are in CSV format. I will be making use of these:\n",
    "- Lists\n",
    "    - Subscriber information\n",
    "- Reports\n",
    "    - Campaign opens, clicks, unsubscribes, and geolocation data"
   ]
  },
  {
   "cell_type": "markdown",
   "metadata": {},
   "source": [
    "### Loading and Preprocessing"
   ]
  },
  {
   "cell_type": "markdown",
   "metadata": {},
   "source": [
    "Before diving into analyzing the data and running code, there are several steps I need to take. In order to preprocess the data, I organized the Mailchimp export data and only kept what I needed. This includes the campaign reports (campaigns.csv) and the List data. More importantly, I quickly recognized that the List data contained sensitive information such as full names, emails, geodata location, and more. Therefore, I decided to prioritize anonymizing the data. To do this, I used the [random.permutation](https://docs.scipy.org/doc/numpy-1.10.0/reference/generated/numpy.random.permutation.html) numpy function and pandas [reindexing.](https://pandas.pydata.org/pandas-docs/stable/reference/api/pandas.DataFrame.reindex.html) After this, I followed relatively standard tidying methods to have clean, easy-to-use data such as concatenating dataframes, dropping unnecessary columns, converting columns to the proper data types, and more."
   ]
  },
  {
   "cell_type": "markdown",
   "metadata": {},
   "source": [
    "### Exploratory Analysis"
   ]
  },
  {
   "cell_type": "markdown",
   "metadata": {},
   "source": [
    "For this tutorial, a majority of the exploration involves gathering insights that summarize the many data points provided by Mailchimp. For subscriber data, this includes location, timezone, and optin date. For campaign data, this includes opens, clicks, unsubscribes, subject lines, send-dates and more."
   ]
  },
  {
   "cell_type": "markdown",
   "metadata": {},
   "source": [
    "### Hypothesis"
   ]
  },
  {
   "cell_type": "markdown",
   "metadata": {},
   "source": [
    "I believe that time will be one of the most important factors in a [successful email.](https://mailbakery.com/blog/measure-email-marketing-success/)"
   ]
  },
  {
   "cell_type": "markdown",
   "metadata": {},
   "source": [
    "### Conclusion"
   ]
  },
  {
   "cell_type": "markdown",
   "metadata": {},
   "source": [
    "Although time is important, it became difficult to identify a singular factor that leads to a successful email. Aditionally, as I worked through the tutorial, I realized that the most helpful insights would lie in comparing subscriber growth to opens, clicks, and other metrics. This is important because consistent engagement is the absolute most important metric for an email list. Overall, this analysis provides me with detailed insights into The Root's data and expectations for the future. Specifically, it is helping me make predictions for future growth using the concrete data from the past six months. Accurately predicting growth is useful for many reasons. I am currently presenting The Root at business pitch competitions, to potential investors, and more. I look forward to consistently looking into this data and continuing to explore. In the future, I plan to access the data through Mailchimp's API rather than static CSV files."
   ]
  },
  {
   "cell_type": "markdown",
   "metadata": {},
   "source": [
    "***"
   ]
  },
  {
   "cell_type": "markdown",
   "metadata": {},
   "source": [
    "## Getting Started with Data"
   ]
  },
  {
   "cell_type": "markdown",
   "metadata": {},
   "source": [
    "For this project, I will be using Python and several imported libraries such as [pandas,](https://pandas.pydata.org/pandas-docs/stable/index.html) [numpy,](https://numpy.org/) [matplotlib,](https://matplotlib.org/) [scikit-learn,](https://scikit-learn.org/stable/index.html) [seaborn,](https://seaborn.pydata.org/) [wordcloud,](https://amueller.github.io/word_cloud/) and more. "
   ]
  },
  {
   "cell_type": "code",
   "execution_count": 606,
   "metadata": {},
   "outputs": [
    {
     "data": {
      "text/html": [
       "<style>.container { width:95% !important; }</style>"
      ],
      "text/plain": [
       "<IPython.core.display.HTML object>"
      ]
     },
     "metadata": {},
     "output_type": "display_data"
    }
   ],
   "source": [
    "import pandas as pd\n",
    "import numpy as np\n",
    "import matplotlib.pyplot as plt\n",
    "from matplotlib.pyplot import *\n",
    "import seaborn as sns\n",
    "from wordcloud import WordCloud, STOPWORDS, ImageColorGenerator\n",
    "from PIL import Image\n",
    "\n",
    "\n",
    "#widening notebook and lets us display data easily.\n",
    "from IPython.core.display import display, HTML\n",
    "display(HTML(\"<style>.container { width:95% !important; }</style>\"))\n",
    "\n",
    "pd.options.display.max_rows = 500\n",
    "pd.options.display.max_columns = 500\n",
    "pd.options.display.width = 1000"
   ]
  },
  {
   "cell_type": "markdown",
   "metadata": {},
   "source": [
    "## Loading in Subscriber data"
   ]
  },
  {
   "cell_type": "markdown",
   "metadata": {},
   "source": [
    "Now that campaign data is stored in the proper dataframe, I am loading in subscriber data."
   ]
  },
  {
   "cell_type": "code",
   "execution_count": 607,
   "metadata": {},
   "outputs": [],
   "source": [
    "sub_df = pd.read_csv(\"./newsletteraudience/subscribed.csv\")\n",
    "unsub_df = pd.read_csv(\"./newsletteraudience/unsubscribed.csv\")"
   ]
  },
  {
   "cell_type": "code",
   "execution_count": 608,
   "metadata": {},
   "outputs": [
    {
     "name": "stdout",
     "output_type": "stream",
     "text": [
      "(678, 22)\n",
      "(17, 26)\n"
     ]
    }
   ],
   "source": [
    "print(sub_df.shape)\n",
    "print(unsub_df.shape)"
   ]
  },
  {
   "cell_type": "markdown",
   "metadata": {},
   "source": [
    "Now that our lists are merged, let's get a better view of what we are working with."
   ]
  },
  {
   "cell_type": "code",
   "execution_count": 609,
   "metadata": {},
   "outputs": [
    {
     "data": {
      "text/plain": [
       "(695, 27)"
      ]
     },
     "execution_count": 609,
     "metadata": {},
     "output_type": "execute_result"
    }
   ],
   "source": [
    "contacts = pd.concat([sub_df, unsub_df], sort = False, ignore_index = True) \n",
    "contacts.shape"
   ]
  },
  {
   "cell_type": "code",
   "execution_count": 610,
   "metadata": {},
   "outputs": [
    {
     "data": {
      "text/plain": [
       "What's your first name?                                object\n",
       "Last name?                                             object\n",
       "Email?                                                 object\n",
       "How did you find us?                                   object\n",
       "From 1-10, how comfortable do you feel with money?     object\n",
       "MEMBER_RATING                                           int64\n",
       "OPTIN_TIME                                             object\n",
       "OPTIN_IP                                               object\n",
       "CONFIRM_TIME                                           object\n",
       "CONFIRM_IP                                             object\n",
       "LATITUDE                                               object\n",
       "LONGITUDE                                              object\n",
       "GMTOFF                                                 object\n",
       "DSTOFF                                                 object\n",
       "TIMEZONE                                               object\n",
       "CC                                                     object\n",
       "REGION                                                 object\n",
       "LAST_CHANGED                                           object\n",
       "LEID                                                    int64\n",
       "EUID                                                   object\n",
       "NOTES                                                 float64\n",
       "TAGS                                                   object\n",
       "UNSUB_TIME                                             object\n",
       "UNSUB_CAMPAIGN_TITLE                                   object\n",
       "UNSUB_CAMPAIGN_ID                                      object\n",
       "UNSUB_REASON                                           object\n",
       "UNSUB_REASON_OTHER                                    float64\n",
       "dtype: object"
      ]
     },
     "execution_count": 610,
     "metadata": {},
     "output_type": "execute_result"
    }
   ],
   "source": [
    "contacts.dtypes"
   ]
  },
  {
   "cell_type": "code",
   "execution_count": 611,
   "metadata": {},
   "outputs": [
    {
     "data": {
      "text/plain": [
       "What's your first name?                               219\n",
       "Last name?                                            228\n",
       "Email?                                                  0\n",
       "How did you find us?                                  316\n",
       "From 1-10, how comfortable do you feel with money?    356\n",
       "MEMBER_RATING                                           0\n",
       "OPTIN_TIME                                              0\n",
       "OPTIN_IP                                              694\n",
       "CONFIRM_TIME                                            0\n",
       "CONFIRM_IP                                            206\n",
       "LATITUDE                                              194\n",
       "LONGITUDE                                             194\n",
       "GMTOFF                                                387\n",
       "DSTOFF                                                387\n",
       "TIMEZONE                                              253\n",
       "CC                                                    194\n",
       "REGION                                                194\n",
       "LAST_CHANGED                                           17\n",
       "LEID                                                    0\n",
       "EUID                                                    0\n",
       "NOTES                                                 695\n",
       "TAGS                                                  694\n",
       "UNSUB_TIME                                            678\n",
       "UNSUB_CAMPAIGN_TITLE                                  679\n",
       "UNSUB_CAMPAIGN_ID                                     679\n",
       "UNSUB_REASON                                          688\n",
       "UNSUB_REASON_OTHER                                    695\n",
       "dtype: int64"
      ]
     },
     "execution_count": 611,
     "metadata": {},
     "output_type": "execute_result"
    }
   ],
   "source": [
    "contacts.isnull().sum()"
   ]
  },
  {
   "cell_type": "markdown",
   "metadata": {},
   "source": [
    "As you can see, there are a lot of missing records. We are only going to keep columns that will aid us in understanding our data better."
   ]
  },
  {
   "cell_type": "markdown",
   "metadata": {},
   "source": [
    "## Loading in Campaign Data "
   ]
  },
  {
   "cell_type": "markdown",
   "metadata": {},
   "source": [
    "The dataset loaded in below contains campaign data and is being stored in a pandas dataframe using read_csv()."
   ]
  },
  {
   "cell_type": "code",
   "execution_count": 612,
   "metadata": {
    "scrolled": true
   },
   "outputs": [],
   "source": [
    "df1 = pd.read_csv(\"./campaigns.csv\")"
   ]
  },
  {
   "cell_type": "markdown",
   "metadata": {},
   "source": [
    "In the original dataset, called \"df1\", there are 26 columns. Below is a detailed look into what is provided."
   ]
  },
  {
   "cell_type": "code",
   "execution_count": 613,
   "metadata": {},
   "outputs": [
    {
     "data": {
      "text/plain": [
       "(27, 26)"
      ]
     },
     "execution_count": 613,
     "metadata": {},
     "output_type": "execute_result"
    }
   ],
   "source": [
    "df1.shape"
   ]
  },
  {
   "cell_type": "code",
   "execution_count": 614,
   "metadata": {
    "scrolled": true
   },
   "outputs": [
    {
     "data": {
      "text/plain": [
       "Title                      object\n",
       "Subject                    object\n",
       "List                       object\n",
       "Send Date                  object\n",
       "Send Weekday               object\n",
       "Total Recipients            int64\n",
       "Successful Deliveries       int64\n",
       "Soft Bounces                int64\n",
       "Hard Bounces                int64\n",
       "Total Bounces               int64\n",
       "Times Forwarded             int64\n",
       "Forwarded Opens             int64\n",
       "Unique Opens                int64\n",
       "Open Rate                  object\n",
       "Total Opens                 int64\n",
       "Unique Clicks               int64\n",
       "Click Rate                 object\n",
       "Total Clicks                int64\n",
       "Unsubscribes                int64\n",
       "Abuse Complaints            int64\n",
       "Times Liked on Facebook     int64\n",
       "Folder Id                   int64\n",
       "Unique Id                  object\n",
       "Total Orders                int64\n",
       "Total Gross Sales           int64\n",
       "Total Revenue               int64\n",
       "dtype: object"
      ]
     },
     "execution_count": 614,
     "metadata": {},
     "output_type": "execute_result"
    }
   ],
   "source": [
    "df1.dtypes"
   ]
  },
  {
   "cell_type": "markdown",
   "metadata": {},
   "source": [
    "# Tidying and Modifying the Data"
   ]
  },
  {
   "cell_type": "markdown",
   "metadata": {},
   "source": [
    "## Subscriber data: anonymizing and sorting"
   ]
  },
  {
   "cell_type": "markdown",
   "metadata": {},
   "source": [
    "The \"contacts\" dataframe contains sensitive information such as full names, emails, and other identifying information. For these subscribers' safety, I will shuffle and anonymize the dataset. I am doing this below."
   ]
  },
  {
   "cell_type": "code",
   "execution_count": 615,
   "metadata": {},
   "outputs": [],
   "source": [
    "contacts = contacts[[\"Email?\",\"MEMBER_RATING\", \"REGION\", \"TIMEZONE\", \"OPTIN_TIME\"]]\n",
    "shuffled = contacts.reindex(np.random.permutation(contacts.index))"
   ]
  },
  {
   "cell_type": "code",
   "execution_count": 616,
   "metadata": {},
   "outputs": [],
   "source": [
    "shuffled.reset_index(inplace = True)"
   ]
  },
  {
   "cell_type": "markdown",
   "metadata": {},
   "source": [
    " In order to identify subscribers without their sensitive information, I am assigning an email_id to each record."
   ]
  },
  {
   "cell_type": "code",
   "execution_count": 617,
   "metadata": {},
   "outputs": [],
   "source": [
    "shuffled['email_id'] = shuffled.index\n",
    "shuffled.drop(columns = ['Email?', 'index'], inplace = True)"
   ]
  },
  {
   "cell_type": "markdown",
   "metadata": {},
   "source": [
    "Now, I am converting OPTIN_TIME to its proper type using the pandas [datetime](https://pandas.pydata.org/pandas-docs/stable/reference/api/pandas.to_datetime.html) functionality."
   ]
  },
  {
   "cell_type": "code",
   "execution_count": 618,
   "metadata": {},
   "outputs": [],
   "source": [
    "shuffled[\"OPTIN_TIME\"] = pd.to_datetime(shuffled[\"OPTIN_TIME\"])"
   ]
  },
  {
   "cell_type": "code",
   "execution_count": 619,
   "metadata": {},
   "outputs": [
    {
     "data": {
      "text/plain": [
       "MEMBER_RATING             int64\n",
       "REGION                   object\n",
       "TIMEZONE                 object\n",
       "OPTIN_TIME       datetime64[ns]\n",
       "email_id                  int64\n",
       "dtype: object"
      ]
     },
     "execution_count": 619,
     "metadata": {},
     "output_type": "execute_result"
    }
   ],
   "source": [
    "shuffled.dtypes"
   ]
  },
  {
   "cell_type": "markdown",
   "metadata": {},
   "source": [
    "Out of curiosity, lets see how many records have a NaN value."
   ]
  },
  {
   "cell_type": "code",
   "execution_count": 620,
   "metadata": {},
   "outputs": [
    {
     "data": {
      "text/plain": [
       "MEMBER_RATING      0\n",
       "REGION           194\n",
       "TIMEZONE         253\n",
       "OPTIN_TIME         0\n",
       "email_id           0\n",
       "dtype: int64"
      ]
     },
     "execution_count": 620,
     "metadata": {},
     "output_type": "execute_result"
    }
   ],
   "source": [
    "shuffled.isnull().sum()"
   ]
  },
  {
   "cell_type": "markdown",
   "metadata": {},
   "source": [
    "This number of NaNs will be something to look into for future data collection. It is interesting to see what is missing."
   ]
  },
  {
   "cell_type": "code",
   "execution_count": 621,
   "metadata": {
    "scrolled": true
   },
   "outputs": [],
   "source": [
    "shuffled.dropna(inplace = True)"
   ]
  },
  {
   "cell_type": "code",
   "execution_count": 622,
   "metadata": {},
   "outputs": [],
   "source": [
    "shuffled.set_index(\"email_id\", inplace = True)"
   ]
  },
  {
   "cell_type": "markdown",
   "metadata": {},
   "source": [
    "Above, I am taking the final steps to achieving a clean data set. Although not ideal, I am dropping the NaN values to make the data easier to work with. Lastly, I am setting the index to email_id."
   ]
  },
  {
   "cell_type": "code",
   "execution_count": 623,
   "metadata": {},
   "outputs": [],
   "source": [
    "shuffled.to_csv(\"cleaned.csv\")"
   ]
  },
  {
   "cell_type": "markdown",
   "metadata": {},
   "source": [
    "To finish, I am saving the cleaned data into CSV file for future use and exploration."
   ]
  },
  {
   "cell_type": "markdown",
   "metadata": {},
   "source": [
    "# Campaign data: aggregating, sorting, and tidying"
   ]
  },
  {
   "cell_type": "markdown",
   "metadata": {},
   "source": [
    "Now, I am tidying up the campaign data to ensure we have the information I need. Because the CSV file includes 27 columns, I need to choose the columns I would like to keep and then concatenate them into one dataset. I call it \"metrics.\""
   ]
  },
  {
   "cell_type": "code",
   "execution_count": 624,
   "metadata": {
    "scrolled": false
   },
   "outputs": [],
   "source": [
    "df_interest = df1.iloc[:, 0:21]\n",
    "metrics1 = df_interest.iloc[:, 1:5]\n",
    "metrics2 = df_interest.iloc[:, 5:9]\n",
    "metrics3 = df_interest.iloc[:, 12:18]\n",
    "metrics = pd.concat([metrics1, metrics2, metrics3], axis = 1)\n",
    "metrics.drop(['List', 'Send Weekday', 'Open Rate', 'Click Rate'], axis = 1, inplace = True)"
   ]
  },
  {
   "cell_type": "markdown",
   "metadata": {},
   "source": [
    "In order to access the individual campaigns, I am inserting a campaign_id column using the index."
   ]
  },
  {
   "cell_type": "code",
   "execution_count": 625,
   "metadata": {},
   "outputs": [],
   "source": [
    "metrics['campaign_id'] = metrics.index"
   ]
  },
  {
   "cell_type": "markdown",
   "metadata": {},
   "source": [
    "#### Now, I am converting columns to their proper types. "
   ]
  },
  {
   "cell_type": "code",
   "execution_count": 626,
   "metadata": {},
   "outputs": [],
   "source": [
    "metrics[\"Subject\"] = metrics[\"Subject\"].astype(str, copy = True)"
   ]
  },
  {
   "cell_type": "code",
   "execution_count": 627,
   "metadata": {},
   "outputs": [],
   "source": [
    "metrics[\"Send Date\"] = pd.to_datetime(metrics[\"Send Date\"])\n",
    "metrics.set_index(\"Send Date\", inplace = True)\n",
    "metrics['send_time'] = metrics.index.time"
   ]
  },
  {
   "cell_type": "markdown",
   "metadata": {},
   "source": [
    "As you can see, I am using the Send Date column as the index. It is being stored as a datetime variable. This will be useful for future analysis."
   ]
  },
  {
   "cell_type": "markdown",
   "metadata": {},
   "source": [
    "### Tidy Campaign Dataframe"
   ]
  },
  {
   "cell_type": "code",
   "execution_count": 628,
   "metadata": {
    "scrolled": true
   },
   "outputs": [
    {
     "data": {
      "text/html": [
       "<div>\n",
       "<style scoped>\n",
       "    .dataframe tbody tr th:only-of-type {\n",
       "        vertical-align: middle;\n",
       "    }\n",
       "\n",
       "    .dataframe tbody tr th {\n",
       "        vertical-align: top;\n",
       "    }\n",
       "\n",
       "    .dataframe thead th {\n",
       "        text-align: right;\n",
       "    }\n",
       "</style>\n",
       "<table border=\"1\" class=\"dataframe\">\n",
       "  <thead>\n",
       "    <tr style=\"text-align: right;\">\n",
       "      <th></th>\n",
       "      <th>Subject</th>\n",
       "      <th>Total Recipients</th>\n",
       "      <th>Successful Deliveries</th>\n",
       "      <th>Soft Bounces</th>\n",
       "      <th>Hard Bounces</th>\n",
       "      <th>Unique Opens</th>\n",
       "      <th>Total Opens</th>\n",
       "      <th>Unique Clicks</th>\n",
       "      <th>Total Clicks</th>\n",
       "      <th>campaign_id</th>\n",
       "      <th>send_time</th>\n",
       "    </tr>\n",
       "    <tr>\n",
       "      <th>Send Date</th>\n",
       "      <th></th>\n",
       "      <th></th>\n",
       "      <th></th>\n",
       "      <th></th>\n",
       "      <th></th>\n",
       "      <th></th>\n",
       "      <th></th>\n",
       "      <th></th>\n",
       "      <th></th>\n",
       "      <th></th>\n",
       "      <th></th>\n",
       "    </tr>\n",
       "  </thead>\n",
       "  <tbody>\n",
       "    <tr>\n",
       "      <td>2019-08-12 06:58:00</td>\n",
       "      <td>newsletter no.1</td>\n",
       "      <td>212</td>\n",
       "      <td>210</td>\n",
       "      <td>1</td>\n",
       "      <td>1</td>\n",
       "      <td>113</td>\n",
       "      <td>280</td>\n",
       "      <td>9</td>\n",
       "      <td>17</td>\n",
       "      <td>0</td>\n",
       "      <td>06:58:00</td>\n",
       "    </tr>\n",
       "    <tr>\n",
       "      <td>2019-08-12 09:46:00</td>\n",
       "      <td>newsletter no.1</td>\n",
       "      <td>1</td>\n",
       "      <td>1</td>\n",
       "      <td>0</td>\n",
       "      <td>0</td>\n",
       "      <td>1</td>\n",
       "      <td>2</td>\n",
       "      <td>0</td>\n",
       "      <td>0</td>\n",
       "      <td>1</td>\n",
       "      <td>09:46:00</td>\n",
       "    </tr>\n",
       "    <tr>\n",
       "      <td>2019-08-19 07:02:00</td>\n",
       "      <td>get. that. money. (newsletter no. 2)</td>\n",
       "      <td>233</td>\n",
       "      <td>232</td>\n",
       "      <td>1</td>\n",
       "      <td>0</td>\n",
       "      <td>129</td>\n",
       "      <td>235</td>\n",
       "      <td>0</td>\n",
       "      <td>0</td>\n",
       "      <td>2</td>\n",
       "      <td>07:02:00</td>\n",
       "    </tr>\n",
       "    <tr>\n",
       "      <td>2019-08-19 16:50:00</td>\n",
       "      <td>get. that. money. (newsletter no. 2)</td>\n",
       "      <td>4</td>\n",
       "      <td>4</td>\n",
       "      <td>0</td>\n",
       "      <td>0</td>\n",
       "      <td>3</td>\n",
       "      <td>7</td>\n",
       "      <td>0</td>\n",
       "      <td>0</td>\n",
       "      <td>3</td>\n",
       "      <td>16:50:00</td>\n",
       "    </tr>\n",
       "    <tr>\n",
       "      <td>2019-08-26 07:00:00</td>\n",
       "      <td>all. i. see. is. $$$$ (newsletter no. 3)</td>\n",
       "      <td>254</td>\n",
       "      <td>253</td>\n",
       "      <td>1</td>\n",
       "      <td>0</td>\n",
       "      <td>140</td>\n",
       "      <td>251</td>\n",
       "      <td>0</td>\n",
       "      <td>0</td>\n",
       "      <td>4</td>\n",
       "      <td>07:00:00</td>\n",
       "    </tr>\n",
       "  </tbody>\n",
       "</table>\n",
       "</div>"
      ],
      "text/plain": [
       "                                                      Subject  Total Recipients  Successful Deliveries  Soft Bounces  Hard Bounces  Unique Opens  Total Opens  Unique Clicks  Total Clicks  campaign_id send_time\n",
       "Send Date                                                                                                                                                                                                        \n",
       "2019-08-12 06:58:00                           newsletter no.1               212                    210             1             1           113          280              9            17            0  06:58:00\n",
       "2019-08-12 09:46:00                           newsletter no.1                 1                      1             0             0             1            2              0             0            1  09:46:00\n",
       "2019-08-19 07:02:00      get. that. money. (newsletter no. 2)               233                    232             1             0           129          235              0             0            2  07:02:00\n",
       "2019-08-19 16:50:00      get. that. money. (newsletter no. 2)                 4                      4             0             0             3            7              0             0            3  16:50:00\n",
       "2019-08-26 07:00:00  all. i. see. is. $$$$ (newsletter no. 3)               254                    253             1             0           140          251              0             0            4  07:00:00"
      ]
     },
     "execution_count": 628,
     "metadata": {},
     "output_type": "execute_result"
    }
   ],
   "source": [
    "metrics.head()"
   ]
  },
  {
   "cell_type": "code",
   "execution_count": 629,
   "metadata": {
    "scrolled": true
   },
   "outputs": [
    {
     "data": {
      "text/plain": [
       "Subject                  object\n",
       "Total Recipients          int64\n",
       "Successful Deliveries     int64\n",
       "Soft Bounces              int64\n",
       "Hard Bounces              int64\n",
       "Unique Opens              int64\n",
       "Total Opens               int64\n",
       "Unique Clicks             int64\n",
       "Total Clicks              int64\n",
       "campaign_id               int64\n",
       "send_time                object\n",
       "dtype: object"
      ]
     },
     "execution_count": 629,
     "metadata": {},
     "output_type": "execute_result"
    }
   ],
   "source": [
    "metrics.dtypes"
   ]
  },
  {
   "cell_type": "code",
   "execution_count": 630,
   "metadata": {
    "scrolled": false
   },
   "outputs": [
    {
     "data": {
      "text/plain": [
       "(27, 11)"
      ]
     },
     "execution_count": 630,
     "metadata": {},
     "output_type": "execute_result"
    }
   ],
   "source": [
    "metrics.shape"
   ]
  },
  {
   "cell_type": "markdown",
   "metadata": {},
   "source": [
    "Now, we have only the columns we need."
   ]
  },
  {
   "cell_type": "markdown",
   "metadata": {},
   "source": [
    "# Subscriber Analysis"
   ]
  },
  {
   "cell_type": "markdown",
   "metadata": {},
   "source": [
    "Let's get started with the analysis. Here is a view of the finalized subscriber dataframe we are going to be working with."
   ]
  },
  {
   "cell_type": "code",
   "execution_count": 631,
   "metadata": {},
   "outputs": [
    {
     "data": {
      "text/html": [
       "<div>\n",
       "<style scoped>\n",
       "    .dataframe tbody tr th:only-of-type {\n",
       "        vertical-align: middle;\n",
       "    }\n",
       "\n",
       "    .dataframe tbody tr th {\n",
       "        vertical-align: top;\n",
       "    }\n",
       "\n",
       "    .dataframe thead th {\n",
       "        text-align: right;\n",
       "    }\n",
       "</style>\n",
       "<table border=\"1\" class=\"dataframe\">\n",
       "  <thead>\n",
       "    <tr style=\"text-align: right;\">\n",
       "      <th></th>\n",
       "      <th>MEMBER_RATING</th>\n",
       "      <th>REGION</th>\n",
       "      <th>TIMEZONE</th>\n",
       "      <th>OPTIN_TIME</th>\n",
       "    </tr>\n",
       "    <tr>\n",
       "      <th>email_id</th>\n",
       "      <th></th>\n",
       "      <th></th>\n",
       "      <th></th>\n",
       "      <th></th>\n",
       "    </tr>\n",
       "  </thead>\n",
       "  <tbody>\n",
       "    <tr>\n",
       "      <td>0</td>\n",
       "      <td>2</td>\n",
       "      <td>la</td>\n",
       "      <td>985</td>\n",
       "      <td>2019-09-02 22:31:17</td>\n",
       "    </tr>\n",
       "    <tr>\n",
       "      <td>1</td>\n",
       "      <td>3</td>\n",
       "      <td>la</td>\n",
       "      <td>504</td>\n",
       "      <td>2019-08-12 06:40:52</td>\n",
       "    </tr>\n",
       "    <tr>\n",
       "      <td>2</td>\n",
       "      <td>2</td>\n",
       "      <td>ny</td>\n",
       "      <td>212/332/646/917</td>\n",
       "      <td>2019-08-18 20:01:06</td>\n",
       "    </tr>\n",
       "    <tr>\n",
       "      <td>3</td>\n",
       "      <td>2</td>\n",
       "      <td>ny</td>\n",
       "      <td>212/332/646/917</td>\n",
       "      <td>2019-08-12 06:40:52</td>\n",
       "    </tr>\n",
       "    <tr>\n",
       "      <td>5</td>\n",
       "      <td>3</td>\n",
       "      <td>ny</td>\n",
       "      <td>929/917</td>\n",
       "      <td>2019-11-06 11:16:36</td>\n",
       "    </tr>\n",
       "  </tbody>\n",
       "</table>\n",
       "</div>"
      ],
      "text/plain": [
       "          MEMBER_RATING REGION         TIMEZONE          OPTIN_TIME\n",
       "email_id                                                           \n",
       "0                     2     la              985 2019-09-02 22:31:17\n",
       "1                     3     la              504 2019-08-12 06:40:52\n",
       "2                     2     ny  212/332/646/917 2019-08-18 20:01:06\n",
       "3                     2     ny  212/332/646/917 2019-08-12 06:40:52\n",
       "5                     3     ny          929/917 2019-11-06 11:16:36"
      ]
     },
     "execution_count": 631,
     "metadata": {},
     "output_type": "execute_result"
    }
   ],
   "source": [
    "shuffled.head()"
   ]
  },
  {
   "cell_type": "markdown",
   "metadata": {},
   "source": [
    "### Location Data Analysis and Visualization"
   ]
  },
  {
   "cell_type": "markdown",
   "metadata": {},
   "source": [
    "According to Mailchimp, regions are an estimate based on IP address data. Contacts' IP addresses are first collected when signing up and become more and more accurate as they engage with the email campaigns."
   ]
  },
  {
   "cell_type": "code",
   "execution_count": 632,
   "metadata": {},
   "outputs": [
    {
     "data": {
      "text/plain": [
       "la    95\n",
       "ny    75\n",
       "LA    36\n",
       "fl    35\n",
       "tx    31\n",
       "FL    15\n",
       "ca    13\n",
       "mi    12\n",
       "ga    12\n",
       "nj    11\n",
       "Name: REGION, dtype: int64"
      ]
     },
     "execution_count": 632,
     "metadata": {},
     "output_type": "execute_result"
    }
   ],
   "source": [
    "shuffled[\"REGION\"].value_counts().head(10)"
   ]
  },
  {
   "cell_type": "markdown",
   "metadata": {},
   "source": [
    "With a closer look at the REGION column, I can see that locations are stored as both uppercase and lowercase. In order to get the proper value counts of locations, I am going to convert all the REGION records to uppercase and take another look."
   ]
  },
  {
   "cell_type": "code",
   "execution_count": 633,
   "metadata": {},
   "outputs": [],
   "source": [
    "shuffled['region'] = shuffled['REGION'].str.upper()\n",
    "shuffled.drop(columns = ['REGION'], inplace = True)"
   ]
  },
  {
   "cell_type": "markdown",
   "metadata": {},
   "source": [
    "Now that the data has been tidied a bit further, I am getting the counts for each region to get a better overview of my subscriber list."
   ]
  },
  {
   "cell_type": "code",
   "execution_count": 636,
   "metadata": {},
   "outputs": [
    {
     "data": {
      "text/html": [
       "<div>\n",
       "<style scoped>\n",
       "    .dataframe tbody tr th:only-of-type {\n",
       "        vertical-align: middle;\n",
       "    }\n",
       "\n",
       "    .dataframe tbody tr th {\n",
       "        vertical-align: top;\n",
       "    }\n",
       "\n",
       "    .dataframe thead th {\n",
       "        text-align: right;\n",
       "    }\n",
       "</style>\n",
       "<table border=\"1\" class=\"dataframe\">\n",
       "  <thead>\n",
       "    <tr style=\"text-align: right;\">\n",
       "      <th></th>\n",
       "      <th>region</th>\n",
       "    </tr>\n",
       "  </thead>\n",
       "  <tbody>\n",
       "    <tr>\n",
       "      <td>LA</td>\n",
       "      <td>131</td>\n",
       "    </tr>\n",
       "    <tr>\n",
       "      <td>NY</td>\n",
       "      <td>80</td>\n",
       "    </tr>\n",
       "    <tr>\n",
       "      <td>FL</td>\n",
       "      <td>50</td>\n",
       "    </tr>\n",
       "    <tr>\n",
       "      <td>TX</td>\n",
       "      <td>36</td>\n",
       "    </tr>\n",
       "    <tr>\n",
       "      <td>CA</td>\n",
       "      <td>17</td>\n",
       "    </tr>\n",
       "    <tr>\n",
       "      <td>NJ</td>\n",
       "      <td>13</td>\n",
       "    </tr>\n",
       "    <tr>\n",
       "      <td>MA</td>\n",
       "      <td>12</td>\n",
       "    </tr>\n",
       "    <tr>\n",
       "      <td>MI</td>\n",
       "      <td>12</td>\n",
       "    </tr>\n",
       "    <tr>\n",
       "      <td>GA</td>\n",
       "      <td>12</td>\n",
       "    </tr>\n",
       "    <tr>\n",
       "      <td>PA</td>\n",
       "      <td>10</td>\n",
       "    </tr>\n",
       "  </tbody>\n",
       "</table>\n",
       "</div>"
      ],
      "text/plain": [
       "    region\n",
       "LA     131\n",
       "NY      80\n",
       "FL      50\n",
       "TX      36\n",
       "CA      17\n",
       "NJ      13\n",
       "MA      12\n",
       "MI      12\n",
       "GA      12\n",
       "PA      10"
      ]
     },
     "execution_count": 636,
     "metadata": {},
     "output_type": "execute_result"
    }
   ],
   "source": [
    "region_counts = shuffled[\"region\"].value_counts(ascending = False)\n",
    "region_counts_df = pd.DataFrame(region_counts)\n",
    "region_counts_df.reset_index()\n",
    "region_counts_df.head(10)"
   ]
  },
  {
   "cell_type": "markdown",
   "metadata": {},
   "source": [
    "### Let's visualize where most of The Root's subscribers are from."
   ]
  },
  {
   "cell_type": "markdown",
   "metadata": {},
   "source": [
    "To do this, I am going to look into the top five regions and visualize them through a pie chart. "
   ]
  },
  {
   "cell_type": "code",
   "execution_count": 635,
   "metadata": {},
   "outputs": [
    {
     "data": {
      "text/plain": [
       "Text(0.5, 1.0, 'Top 5 Regions')"
      ]
     },
     "execution_count": 635,
     "metadata": {},
     "output_type": "execute_result"
    },
    {
     "data": {
      "image/png": "[encoded data removed]",
      "text/plain": [
       "<Figure size 576x576 with 1 Axes>"
      ]
     },
     "metadata": {},
     "output_type": "display_data"
    }
   ],
   "source": [
    "region_counts_df.iloc[:5].plot.pie(y = 'region', figsize = (8,8), autopct = '%1.1f%%')\n",
    "plt.title('Top 5 Regions', color='black')"
   ]
  },
  {
   "cell_type": "markdown",
   "metadata": {},
   "source": [
    "As you can see, this pie chart says that 41.7% of The Root's subcribers are in Louisiana. This makes sense-- I have been mostly spreading the word to students on Tulane's campus! "
   ]
  },
  {
   "cell_type": "markdown",
   "metadata": {},
   "source": [
    "## Subscriber Rating Analysis and Visualization"
   ]
  },
  {
   "cell_type": "markdown",
   "metadata": {},
   "source": [
    "#### Now, I am going to look into the the [member rating](https://mailchimp.com/help/about-contact-ratings/) metric that Mailchimp provides. In short, it is a metric based on a member's total engagement with the newsletter."
   ]
  },
  {
   "cell_type": "markdown",
   "metadata": {},
   "source": [
    "First, I am making a copy of the shuffled dataframe, just to keep things organized! "
   ]
  },
  {
   "cell_type": "code",
   "execution_count": 640,
   "metadata": {},
   "outputs": [],
   "source": [
    "rating_df = shuffled.copy()"
   ]
  },
  {
   "cell_type": "markdown",
   "metadata": {},
   "source": [
    "Next, I am getting an overall look at how The Root's subscribers are rated and putting it into ascending order."
   ]
  },
  {
   "cell_type": "code",
   "execution_count": 641,
   "metadata": {},
   "outputs": [
    {
     "data": {
      "text/html": [
       "<div>\n",
       "<style scoped>\n",
       "    .dataframe tbody tr th:only-of-type {\n",
       "        vertical-align: middle;\n",
       "    }\n",
       "\n",
       "    .dataframe tbody tr th {\n",
       "        vertical-align: top;\n",
       "    }\n",
       "\n",
       "    .dataframe thead th {\n",
       "        text-align: right;\n",
       "    }\n",
       "</style>\n",
       "<table border=\"1\" class=\"dataframe\">\n",
       "  <thead>\n",
       "    <tr style=\"text-align: right;\">\n",
       "      <th></th>\n",
       "      <th>MEMBER_RATING</th>\n",
       "    </tr>\n",
       "  </thead>\n",
       "  <tbody>\n",
       "    <tr>\n",
       "      <td>2</td>\n",
       "      <td>195</td>\n",
       "    </tr>\n",
       "    <tr>\n",
       "      <td>3</td>\n",
       "      <td>123</td>\n",
       "    </tr>\n",
       "    <tr>\n",
       "      <td>4</td>\n",
       "      <td>101</td>\n",
       "    </tr>\n",
       "    <tr>\n",
       "      <td>5</td>\n",
       "      <td>21</td>\n",
       "    </tr>\n",
       "    <tr>\n",
       "      <td>1</td>\n",
       "      <td>2</td>\n",
       "    </tr>\n",
       "  </tbody>\n",
       "</table>\n",
       "</div>"
      ],
      "text/plain": [
       "   MEMBER_RATING\n",
       "2            195\n",
       "3            123\n",
       "4            101\n",
       "5             21\n",
       "1              2"
      ]
     },
     "execution_count": 641,
     "metadata": {},
     "output_type": "execute_result"
    }
   ],
   "source": [
    "rating_table = rating_df[\"MEMBER_RATING\"].value_counts(ascending = False).to_frame()\n",
    "rating_table"
   ]
  },
  {
   "cell_type": "markdown",
   "metadata": {},
   "source": [
    "The table above shows an overall view of member rating counts. It helps but... lets visualize it!"
   ]
  },
  {
   "cell_type": "code",
   "execution_count": 642,
   "metadata": {},
   "outputs": [
    {
     "data": {
      "text/plain": [
       "Text(0.5, 1.0, 'Member Ratings')"
      ]
     },
     "execution_count": 642,
     "metadata": {},
     "output_type": "execute_result"
    },
    {
     "data": {
      "image/png": "[encoded data removed]",
      "text/plain": [
       "<Figure size 576x576 with 1 Axes>"
      ]
     },
     "metadata": {},
     "output_type": "display_data"
    }
   ],
   "source": [
    "rating_table.plot.pie(y = \"MEMBER_RATING\", figsize = (8,8), autopct = '%1.1f%%')\n",
    "plt.title('Member Ratings', color='black')"
   ]
  },
  {
   "cell_type": "markdown",
   "metadata": {},
   "source": [
    "This graph gives me a good idea of how engaged The Root's subscribers are. It could definitely improve."
   ]
  },
  {
   "cell_type": "markdown",
   "metadata": {},
   "source": [
    "***"
   ]
  },
  {
   "cell_type": "markdown",
   "metadata": {},
   "source": [
    "# Campaign Data Analysis"
   ]
  },
  {
   "cell_type": "markdown",
   "metadata": {},
   "source": [
    "### Successful Deliveries Correlation"
   ]
  },
  {
   "cell_type": "markdown",
   "metadata": {},
   "source": [
    "First, I am looking for an overall view of our Campaign data and the relationship between the variables."
   ]
  },
  {
   "cell_type": "code",
   "execution_count": 644,
   "metadata": {
    "scrolled": true
   },
   "outputs": [
    {
     "data": {
      "text/plain": [
       "(array([0.5, 1.5, 2.5, 3.5, 4.5, 5.5, 6.5, 7.5, 8.5, 9.5]),\n",
       " <a list of 10 Text yticklabel objects>)"
      ]
     },
     "execution_count": 644,
     "metadata": {},
     "output_type": "execute_result"
    },
    {
     "data": {
      "image/png": "[encoded data removed]",
      "text/plain": [
       "<Figure size 432x288 with 2 Axes>"
      ]
     },
     "metadata": {
      "needs_background": "light"
     },
     "output_type": "display_data"
    }
   ],
   "source": [
    "ax = sns.heatmap(metrics.corr()[['Successful Deliveries']].sort_values('Successful Deliveries'),cmap = 'coolwarm',annot = True,\n",
    "           xticklabels = True).set_title(\"Successful Deliveries and Metrics\")\n",
    "plt.yticks(rotation=0)"
   ]
  },
  {
   "cell_type": "markdown",
   "metadata": {},
   "source": [
    "This graph shows the relationship between successful newsletter deliveries and the other metrics we are observing. As expected, hard bounces and successful deliveries have a very low correlation. "
   ]
  },
  {
   "cell_type": "markdown",
   "metadata": {},
   "source": [
    "### A closer look: Hard Bounces"
   ]
  },
  {
   "cell_type": "markdown",
   "metadata": {},
   "source": [
    "The [Hard Bounces](https://mailchimp.com/help/soft-vs-hard-bounces/) column is important to dive into. Hard bounces can occur for several reasons: the recipient email address doesn't exist, the domain name doesn't exist, or the recipient email server has completely blocked delivery."
   ]
  },
  {
   "cell_type": "markdown",
   "metadata": {},
   "source": [
    "#### Successful Deliveries vs Hard Bounces"
   ]
  },
  {
   "cell_type": "markdown",
   "metadata": {},
   "source": [
    "Here, I am using seaborn's scatterplot functionality."
   ]
  },
  {
   "cell_type": "code",
   "execution_count": 653,
   "metadata": {},
   "outputs": [
    {
     "data": {
      "text/plain": [
       "Text(0.5, 1.0, 'Successful Deliveries vs Hard Bounces')"
      ]
     },
     "execution_count": 653,
     "metadata": {},
     "output_type": "execute_result"
    },
    {
     "data": {
      "image/png": "[encoded data removed]",
      "text/plain": [
       "<Figure size 432x288 with 1 Axes>"
      ]
     },
     "metadata": {
      "needs_background": "light"
     },
     "output_type": "display_data"
    }
   ],
   "source": [
    "sns.scatterplot(metrics[\"Successful Deliveries\"], metrics[\"Hard Bounces\"]).set_title(\"Successful Deliveries vs Hard Bounces\")"
   ]
  },
  {
   "cell_type": "markdown",
   "metadata": {},
   "source": [
    "#### Hard Bounces per Campaign"
   ]
  },
  {
   "cell_type": "code",
   "execution_count": 652,
   "metadata": {},
   "outputs": [
    {
     "data": {
      "text/plain": [
       "Text(0.5, 1.0, 'Hard Bounces per Campaign')"
      ]
     },
     "execution_count": 652,
     "metadata": {},
     "output_type": "execute_result"
    },
    {
     "data": {
      "image/png": "[encoded data removed]",
      "text/plain": [
       "<Figure size 432x288 with 1 Axes>"
      ]
     },
     "metadata": {
      "needs_background": "light"
     },
     "output_type": "display_data"
    }
   ],
   "source": [
    "sns.barplot(metrics['campaign_id'],\n",
    "            y = metrics[\"Hard Bounces\"],\n",
    "           ).set_title(\"Hard Bounces per Campaign\")"
   ]
  },
  {
   "cell_type": "markdown",
   "metadata": {},
   "source": [
    "These graphs show that there have only been a few instances of hard bounces in the overall history of the newsletter. Mailchimp makes an effort to clean subscriber lists, so if it detects a hard bounce it unsubscribes the contact. This explains the sparseness of these graphs."
   ]
  },
  {
   "cell_type": "markdown",
   "metadata": {},
   "source": [
    "### A closer look: Soft Bounces"
   ]
  },
  {
   "cell_type": "markdown",
   "metadata": {},
   "source": [
    "Now, I want to look at the [Soft Bounces](https://mailchimp.com/help/soft-vs-hard-bounces/) metric. Compared to hard bounces, soft bounces can occur for several reasons. Inclunding, the recipients mailbox is full, the recipient email server is down or offline, or the email message is too large. Here are the same graphs as above, but looking using this metric."
   ]
  },
  {
   "cell_type": "markdown",
   "metadata": {},
   "source": [
    "#### Successful Deliveries vs Soft Bounces"
   ]
  },
  {
   "cell_type": "code",
   "execution_count": 654,
   "metadata": {},
   "outputs": [
    {
     "data": {
      "text/plain": [
       "Text(0.5, 1.0, 'Successful Deliveries vs Soft Bounces')"
      ]
     },
     "execution_count": 654,
     "metadata": {},
     "output_type": "execute_result"
    },
    {
     "data": {
      "image/png": "[encoded data removed]",
      "text/plain": [
       "<Figure size 432x288 with 1 Axes>"
      ]
     },
     "metadata": {
      "needs_background": "light"
     },
     "output_type": "display_data"
    }
   ],
   "source": [
    "sns.scatterplot(metrics[\"Successful Deliveries\"], metrics[\"Soft Bounces\"]).set_title(\"Successful Deliveries vs Soft Bounces\")"
   ]
  },
  {
   "cell_type": "markdown",
   "metadata": {},
   "source": [
    "#### Soft Bounces per Campaign"
   ]
  },
  {
   "cell_type": "code",
   "execution_count": 655,
   "metadata": {},
   "outputs": [
    {
     "data": {
      "text/plain": [
       "Text(0.5, 1.0, 'Soft Bounces per Campaign')"
      ]
     },
     "execution_count": 655,
     "metadata": {},
     "output_type": "execute_result"
    },
    {
     "data": {
      "image/png": "[encoded data removed]",
      "text/plain": [
       "<Figure size 432x288 with 1 Axes>"
      ]
     },
     "metadata": {
      "needs_background": "light"
     },
     "output_type": "display_data"
    }
   ],
   "source": [
    "sns.barplot(metrics['campaign_id'],\n",
    "            y = metrics[\"Soft Bounces\"],\n",
    "           ).set_title(\"Soft Bounces per Campaign\")"
   ]
  },
  {
   "cell_type": "markdown",
   "metadata": {},
   "source": [
    "These are helpful and telling of the difference in frequency between soft and hard bounces. Because this difference is my biggest takeaway from these graphs, I am going to visualize a comparison between the two metrics."
   ]
  },
  {
   "cell_type": "markdown",
   "metadata": {},
   "source": [
    "### Soft Bounces vs Hard Bounces"
   ]
  },
  {
   "cell_type": "markdown",
   "metadata": {},
   "source": [
    "#### First, I am taking several steps to keep the data organized and get the outcome closest to what I am looking for. "
   ]
  },
  {
   "cell_type": "markdown",
   "metadata": {},
   "source": [
    "To begin, I am copying the metrics dataframe, using only the columns I am interested in. I am calling the new dataframe bouncedf."
   ]
  },
  {
   "cell_type": "code",
   "execution_count": 707,
   "metadata": {},
   "outputs": [],
   "source": [
    "bouncedf = metrics[['campaign_id', 'Soft Bounces', 'Hard Bounces']].copy()"
   ]
  },
  {
   "cell_type": "markdown",
   "metadata": {},
   "source": [
    "The next step I am taking involves creating a pivot table from bouncedf. I am doing this to stay organized and look at only the information I am currently investigating for."
   ]
  },
  {
   "cell_type": "code",
   "execution_count": 708,
   "metadata": {},
   "outputs": [
    {
     "data": {
      "text/html": [
       "<div>\n",
       "<style scoped>\n",
       "    .dataframe tbody tr th:only-of-type {\n",
       "        vertical-align: middle;\n",
       "    }\n",
       "\n",
       "    .dataframe tbody tr th {\n",
       "        vertical-align: top;\n",
       "    }\n",
       "\n",
       "    .dataframe thead th {\n",
       "        text-align: right;\n",
       "    }\n",
       "</style>\n",
       "<table border=\"1\" class=\"dataframe\">\n",
       "  <thead>\n",
       "    <tr style=\"text-align: right;\">\n",
       "      <th></th>\n",
       "      <th>Hard Bounces</th>\n",
       "      <th>Soft Bounces</th>\n",
       "    </tr>\n",
       "    <tr>\n",
       "      <th>campaign_id</th>\n",
       "      <th></th>\n",
       "      <th></th>\n",
       "    </tr>\n",
       "  </thead>\n",
       "  <tbody>\n",
       "    <tr>\n",
       "      <td>0</td>\n",
       "      <td>1</td>\n",
       "      <td>1</td>\n",
       "    </tr>\n",
       "    <tr>\n",
       "      <td>1</td>\n",
       "      <td>0</td>\n",
       "      <td>0</td>\n",
       "    </tr>\n",
       "    <tr>\n",
       "      <td>2</td>\n",
       "      <td>0</td>\n",
       "      <td>1</td>\n",
       "    </tr>\n",
       "    <tr>\n",
       "      <td>3</td>\n",
       "      <td>0</td>\n",
       "      <td>0</td>\n",
       "    </tr>\n",
       "    <tr>\n",
       "      <td>4</td>\n",
       "      <td>0</td>\n",
       "      <td>1</td>\n",
       "    </tr>\n",
       "  </tbody>\n",
       "</table>\n",
       "</div>"
      ],
      "text/plain": [
       "             Hard Bounces  Soft Bounces\n",
       "campaign_id                            \n",
       "0                       1             1\n",
       "1                       0             0\n",
       "2                       0             1\n",
       "3                       0             0\n",
       "4                       0             1"
      ]
     },
     "execution_count": 708,
     "metadata": {},
     "output_type": "execute_result"
    }
   ],
   "source": [
    "bounce_table = pd.pivot_table(bouncedf, values = [\"Soft Bounces\", \"Hard Bounces\"], index = \"campaign_id\", aggfunc = np.mean)\n",
    "bounce_table.head()"
   ]
  },
  {
   "cell_type": "markdown",
   "metadata": {},
   "source": [
    "Now, I am coding the plot using a for loop to access all the columns that I need. The input will be a list of the metrics I am looking for."
   ]
  },
  {
   "cell_type": "code",
   "execution_count": 754,
   "metadata": {},
   "outputs": [],
   "source": [
    "def bounce_type(measures):\n",
    "    fig, ax = subplots(figsize=(10,5))\n",
    "    for x in measures:\n",
    "        bounce_table.groupby(['campaign_id']).mean().plot(kind = 'bar', ax = ax, grid = True)\n",
    "    ax.set_ylabel('Bounces')\n",
    "    ax.set_title('Bounces per Campaign')\n",
    "    ax.set_xlabel(\"Campaign ID\")\n",
    "    ax.legend(measures)\n",
    "    return ax\n"
   ]
  },
  {
   "cell_type": "code",
   "execution_count": 755,
   "metadata": {
    "scrolled": true
   },
   "outputs": [
    {
     "data": {
      "image/png": "[encoded data removed]",
      "text/plain": [
       "<Figure size 720x360 with 1 Axes>"
      ]
     },
     "metadata": {
      "needs_background": "light"
     },
     "output_type": "display_data"
    }
   ],
   "source": [
    "ax = bounce_type(['Hard Bounces', 'Soft Bounces'])"
   ]
  },
  {
   "cell_type": "markdown",
   "metadata": {},
   "source": [
    "As you can see, soft bounces are much more common that hard bounces and in many cases, the contacts that bounce are cleared from the sending list."
   ]
  },
  {
   "cell_type": "markdown",
   "metadata": {},
   "source": [
    "## Total Opens by Campaign ID"
   ]
  },
  {
   "cell_type": "code",
   "execution_count": 646,
   "metadata": {},
   "outputs": [
    {
     "data": {
      "text/plain": [
       "Text(0.5, 1.0, 'Average Email Opens per Campaign')"
      ]
     },
     "execution_count": 646,
     "metadata": {},
     "output_type": "execute_result"
    },
    {
     "data": {
      "image/png": "[encoded data removed]",
      "text/plain": [
       "<Figure size 432x288 with 1 Axes>"
      ]
     },
     "metadata": {
      "needs_background": "light"
     },
     "output_type": "display_data"
    }
   ],
   "source": [
    "sns.barplot(metrics['campaign_id'],\n",
    "            y = metrics[\"Total Opens\"],\n",
    "           ).set_title(\"Average Email Opens per Campaign\")"
   ]
  },
  {
   "cell_type": "markdown",
   "metadata": {},
   "source": [
    "This graph is helpful, but may be difficult to understand without context. \n",
    "Out of curiosity, I have been resending to non-openers-- it has not proved very useful. Additionally, The Root is sent out every Monday morning, sometimes I have seen a spike in subscribers on that day and have sent the campaign to those people. Because it is a smaller list, the opens are smaller. "
   ]
  },
  {
   "cell_type": "markdown",
   "metadata": {},
   "source": [
    "## Total Clicks vs Unique Clicks"
   ]
  },
  {
   "cell_type": "markdown",
   "metadata": {},
   "source": [
    "Now, I am using seaborn's [lmplot.](https://seaborn.pydata.org/generated/seaborn.lmplot.html) It is useful because it provides a regression line. This helps with gaining insight in overall expectations for the future."
   ]
  },
  {
   "cell_type": "code",
   "execution_count": 647,
   "metadata": {},
   "outputs": [
    {
     "data": {
      "text/plain": [
       "<seaborn.axisgrid.FacetGrid at 0x1a25db3d10>"
      ]
     },
     "execution_count": 647,
     "metadata": {},
     "output_type": "execute_result"
    },
    {
     "data": {
      "text/plain": [
       "<Figure size 1800x1800 with 0 Axes>"
      ]
     },
     "metadata": {},
     "output_type": "display_data"
    },
    {
     "data": {
      "image/png": "[encoded data removed]",
      "text/plain": [
       "<Figure size 360x360 with 1 Axes>"
      ]
     },
     "metadata": {
      "needs_background": "light"
     },
     "output_type": "display_data"
    }
   ],
   "source": [
    "plt.figure(figsize = (25,25))\n",
    "sns.lmplot(x=\"Total Clicks\", y = \"Unique Clicks\", scatter_kws={\"color\":\"red\",\"alpha\":0.5\n",
    "                                                                     ,\"s\":30}, data = metrics)"
   ]
  },
  {
   "cell_type": "markdown",
   "metadata": {},
   "source": [
    "This graph is interesting because it shows that usually a subscriber who clicks, will click around 2 times throughout the newsletter."
   ]
  },
  {
   "cell_type": "markdown",
   "metadata": {},
   "source": [
    "## Unique Opens vs Total Recipients"
   ]
  },
  {
   "cell_type": "markdown",
   "metadata": {},
   "source": [
    "Again, I am using seaborn's lmplot functionality to measure consistency between Total Recipients and Unique Opens. I am pretty proud of the results."
   ]
  },
  {
   "cell_type": "code",
   "execution_count": 777,
   "metadata": {
    "scrolled": true
   },
   "outputs": [
    {
     "data": {
      "text/plain": [
       "<seaborn.axisgrid.FacetGrid at 0x1a2d89f850>"
      ]
     },
     "execution_count": 777,
     "metadata": {},
     "output_type": "execute_result"
    },
    {
     "data": {
      "text/plain": [
       "<Figure size 1800x1800 with 0 Axes>"
      ]
     },
     "metadata": {},
     "output_type": "display_data"
    },
    {
     "data": {
      "image/png": "[encoded data removed]",
      "text/plain": [
       "<Figure size 360x360 with 1 Axes>"
      ]
     },
     "metadata": {
      "needs_background": "light"
     },
     "output_type": "display_data"
    }
   ],
   "source": [
    "plt.figure(figsize = (25,25))\n",
    "sns.lmplot(x='Total Recipients',y='Unique Opens',fit_reg=True,scatter_kws={\"color\":\"red\",\"alpha\":0.5\n",
    "                                                                     ,\"s\":30},data=metrics)"
   ]
  },
  {
   "cell_type": "markdown",
   "metadata": {},
   "source": [
    "This graph shows the positive correlation between Total Recipients and unique opens. This is interesting to see because as the list has grown, people have continued opening emails. This is opposed to a [dead list](https://blog.3dcart.com/engage-dead-email-list)-- where the number of subscribers is high but the actual engagement is close to nothing. "
   ]
  },
  {
   "cell_type": "markdown",
   "metadata": {},
   "source": [
    "# Time Analysis"
   ]
  },
  {
   "cell_type": "markdown",
   "metadata": {},
   "source": [
    "## Metrics over time"
   ]
  },
  {
   "cell_type": "markdown",
   "metadata": {},
   "source": [
    "### A closer look: by Month"
   ]
  },
  {
   "cell_type": "markdown",
   "metadata": {},
   "source": [
    "In order to see how opens have progressed over time, I am creating a column called month. I am doing this using the (very helpful) [pandas DateTimeIndex](https://pandas.pydata.org/pandas-docs/stable/reference/api/pandas.DatetimeIndex.month.html) functionality."
   ]
  },
  {
   "cell_type": "code",
   "execution_count": 766,
   "metadata": {
    "scrolled": true
   },
   "outputs": [
    {
     "data": {
      "text/html": [
       "<div>\n",
       "<style scoped>\n",
       "    .dataframe tbody tr th:only-of-type {\n",
       "        vertical-align: middle;\n",
       "    }\n",
       "\n",
       "    .dataframe tbody tr th {\n",
       "        vertical-align: top;\n",
       "    }\n",
       "\n",
       "    .dataframe thead th {\n",
       "        text-align: right;\n",
       "    }\n",
       "</style>\n",
       "<table border=\"1\" class=\"dataframe\">\n",
       "  <thead>\n",
       "    <tr style=\"text-align: right;\">\n",
       "      <th></th>\n",
       "      <th>Total Recipients</th>\n",
       "      <th>Unique Clicks</th>\n",
       "      <th>Unique Opens</th>\n",
       "    </tr>\n",
       "    <tr>\n",
       "      <th>month</th>\n",
       "      <th></th>\n",
       "      <th></th>\n",
       "      <th></th>\n",
       "    </tr>\n",
       "  </thead>\n",
       "  <tbody>\n",
       "    <tr>\n",
       "      <td>8</td>\n",
       "      <td>138.166667</td>\n",
       "      <td>1.5</td>\n",
       "      <td>70.166667</td>\n",
       "    </tr>\n",
       "    <tr>\n",
       "      <td>9</td>\n",
       "      <td>209.800000</td>\n",
       "      <td>4.3</td>\n",
       "      <td>79.000000</td>\n",
       "    </tr>\n",
       "    <tr>\n",
       "      <td>10</td>\n",
       "      <td>322.428571</td>\n",
       "      <td>26.0</td>\n",
       "      <td>153.142857</td>\n",
       "    </tr>\n",
       "    <tr>\n",
       "      <td>11</td>\n",
       "      <td>308.000000</td>\n",
       "      <td>10.5</td>\n",
       "      <td>110.500000</td>\n",
       "    </tr>\n",
       "  </tbody>\n",
       "</table>\n",
       "</div>"
      ],
      "text/plain": [
       "       Total Recipients  Unique Clicks  Unique Opens\n",
       "month                                               \n",
       "8            138.166667            1.5     70.166667\n",
       "9            209.800000            4.3     79.000000\n",
       "10           322.428571           26.0    153.142857\n",
       "11           308.000000           10.5    110.500000"
      ]
     },
     "execution_count": 766,
     "metadata": {},
     "output_type": "execute_result"
    }
   ],
   "source": [
    "metrics['month'] = metrics.index.month\n",
    "newdf = metrics[['Total Recipients', 'Unique Opens', 'Unique Clicks', 'month']].copy()\n",
    "newdf.set_index(\"month\", inplace = True)\n",
    "\n",
    "month_table = pd.pivot_table(newdf, values = [\"Total Recipients\", \"Unique Opens\", \"Unique Clicks\"], index = \"month\", aggfunc = np.mean)\n",
    "month_table"
   ]
  },
  {
   "cell_type": "code",
   "execution_count": 774,
   "metadata": {
    "scrolled": true
   },
   "outputs": [
    {
     "data": {
      "text/plain": [
       "<matplotlib.axes._subplots.AxesSubplot at 0x1a2cf17550>"
      ]
     },
     "execution_count": 774,
     "metadata": {},
     "output_type": "execute_result"
    },
    {
     "data": {
      "image/png": "[encoded data removed]",
      "text/plain": [
       "<Figure size 432x288 with 1 Axes>"
      ]
     },
     "metadata": {
      "needs_background": "light"
     },
     "output_type": "display_data"
    }
   ],
   "source": [
    "month_table.plot(kind = 'bar')"
   ]
  },
  {
   "cell_type": "markdown",
   "metadata": {},
   "source": [
    "This visualization tells me that the last few campaigns have not had as many opens as ones before. It will be interesting to note why/what can be done with this data to improve."
   ]
  },
  {
   "cell_type": "markdown",
   "metadata": {},
   "source": [
    "I am going to take a look at this data through a line graph."
   ]
  },
  {
   "cell_type": "code",
   "execution_count": 772,
   "metadata": {},
   "outputs": [],
   "source": [
    "metrics['month'] = metrics.index.month\n",
    "\n",
    "def by_month(measures):\n",
    "    fig, ax = subplots(figsize=(10,5))\n",
    "    for x in measures:\n",
    "        month_table.groupby('month').mean().plot(kind = 'line', ax = ax, grid = True)\n",
    "    ax.set_ylabel('# of Individuals')\n",
    "    ax.set_title('Metrics by Month')\n",
    "    ax.set_xlabel(\"Month\")\n",
    "    ax.legend(measures)\n",
    "    return ax"
   ]
  },
  {
   "cell_type": "code",
   "execution_count": 773,
   "metadata": {},
   "outputs": [
    {
     "data": {
      "image/png": "[encoded data removed]",
      "text/plain": [
       "<Figure size 720x360 with 1 Axes>"
      ]
     },
     "metadata": {
      "needs_background": "light"
     },
     "output_type": "display_data"
    }
   ],
   "source": [
    "ax = by_month(['Unique Opens', 'Unique Clicks', 'Total Recipients'])"
   ]
  },
  {
   "cell_type": "markdown",
   "metadata": {},
   "source": [
    "## Metrics by Hour"
   ]
  },
  {
   "cell_type": "markdown",
   "metadata": {},
   "source": [
    "I am going to separate out hour from our time index. Through this, I hope to gain some insight into how powerful time is when sending out a newsletter."
   ]
  },
  {
   "cell_type": "code",
   "execution_count": 757,
   "metadata": {},
   "outputs": [
    {
     "data": {
      "text/plain": [
       "(array([ 0.5,  1.5,  2.5,  3.5,  4.5,  5.5,  6.5,  7.5,  8.5,  9.5, 10.5]),\n",
       " <a list of 11 Text yticklabel objects>)"
      ]
     },
     "execution_count": 757,
     "metadata": {},
     "output_type": "execute_result"
    },
    {
     "data": {
      "image/png": "[encoded data removed]",
      "text/plain": [
       "<Figure size 432x288 with 2 Axes>"
      ]
     },
     "metadata": {
      "needs_background": "light"
     },
     "output_type": "display_data"
    }
   ],
   "source": [
    "metrics['hour'] = metrics.index.hour\n",
    "ax = sns.heatmap(metrics.corr()[['hour']].sort_values('hour'),cmap = 'coolwarm',annot = True,\n",
    "           xticklabels = True).set_title(\"Time and metrics\")\n",
    "plt.yticks(rotation=0)"
   ]
  },
  {
   "cell_type": "markdown",
   "metadata": {},
   "source": [
    "Through the heatmap above, I can see the relationship hour has to the various metrics. Notably, hour and Total Opens have the lowest correlation. I was not expecting this."
   ]
  },
  {
   "cell_type": "code",
   "execution_count": 764,
   "metadata": {},
   "outputs": [],
   "source": [
    "metrics['hour'] = metrics.index.hour\n",
    "\n",
    "def by_hour(measures):\n",
    "    fig, ax = subplots(figsize=(10,5))\n",
    "    for x in measures:\n",
    "        metrics.groupby('hour').mean().plot(kind = 'line', ax = ax, grid = True)\n",
    "    ax.set_ylabel('# of Individuals')\n",
    "    ax.set_title('Unique Engagement per Hour')\n",
    "    ax.set_xlabel(\"Hour\")\n",
    "    ax.legend(measures)\n",
    "    return ax"
   ]
  },
  {
   "cell_type": "markdown",
   "metadata": {},
   "source": [
    "I created the function above to get a closer look into the relationship between hour and various important newsletter metrics such as Unique Opens and Unique Clicks."
   ]
  },
  {
   "cell_type": "code",
   "execution_count": 765,
   "metadata": {
    "scrolled": true
   },
   "outputs": [
    {
     "data": {
      "image/png": "[encoded data removed]",
      "text/plain": [
       "<Figure size 720x360 with 1 Axes>"
      ]
     },
     "metadata": {
      "needs_background": "light"
     },
     "output_type": "display_data"
    }
   ],
   "source": [
    "ax = by_hour(['Unique Opens', 'Unique Clicks'])"
   ]
  },
  {
   "cell_type": "markdown",
   "metadata": {},
   "source": [
    "Through this graph, I aimed to learn what times work best for sending out newsletters. It shows that morning morning time, closer to 7:30 AM, works best. This graph is difficult to use fully, though, because my subscribers are from a few different time zones and I have largely sent out my emails in the early mornings which could definitely play a role in these findings."
   ]
  },
  {
   "cell_type": "markdown",
   "metadata": {},
   "source": [
    "## Metrics by Subject"
   ]
  },
  {
   "cell_type": "markdown",
   "metadata": {},
   "source": [
    "Finally, I am curious about the Subject metric. Using the WordCloud import seems like an interesting way to explore it more. I am not sure how helpful the data will actually be for future action, though."
   ]
  },
  {
   "cell_type": "code",
   "execution_count": 775,
   "metadata": {},
   "outputs": [],
   "source": [
    "subjects = ''\n",
    "for s in metrics[\"Subject\"]:\n",
    "    subjects+=s"
   ]
  },
  {
   "cell_type": "code",
   "execution_count": 776,
   "metadata": {},
   "outputs": [
    {
     "data": {
      "image/png": "[encoded data removed]",
      "text/plain": [
       "<Figure size 432x288 with 1 Axes>"
      ]
     },
     "metadata": {
      "needs_background": "light"
     },
     "output_type": "display_data"
    }
   ],
   "source": [
    "stopwords = set(STOPWORDS) \n",
    "wordcloud = WordCloud(width = 800, height = 800, \n",
    "                background_color ='white', \n",
    "                stopwords = stopwords, \n",
    "                min_font_size = 10).generate(subjects) \n",
    "plt.figure()\n",
    "plt.imshow(wordcloud, interpolation=\"bilinear\")\n",
    "plt.axis(\"off\")\n",
    "plt.show()"
   ]
  },
  {
   "cell_type": "markdown",
   "metadata": {},
   "source": [
    "As expected, this final exploration was more out of curiousity! It is definitely interesting to see The Root's subjects in this form. "
   ]
  },
  {
   "cell_type": "markdown",
   "metadata": {},
   "source": [
    "## Conclusion and Final Thoughts"
   ]
  },
  {
   "cell_type": "markdown",
   "metadata": {},
   "source": [
    "Email marketing and newsletters are popular and widely recognized as an important part of an organization's engagement with its audience. Although a ton of data exists around the topic, I have realized that without these skills, it would be nearly impossible to have a clear view on how my newsletter, The Root, has grown over time.\n",
    "\n",
    "In all, this tutorial has helped me gain a better understanding of newsletter data and email marketing efforts. Through several data analysis techniques, I am able look carefully into different metrics such as time, bounces, and more. Additionally, I am now able to gain insight on who is subscribed to The Root, where they are from, and how engaged they are.\n",
    "\n",
    "I look forward to continue exploring the data I gather through my newsletter. Hopefully, knowing how to analyze and look into data beyond what Mailchimp offers will help me make more concrete, data-driven decisions. Thanks for reading!\n"
   ]
  },
  {
   "cell_type": "code",
   "execution_count": null,
   "metadata": {},
   "outputs": [],
   "source": []
  }
 ],
 "metadata": {
  "kernelspec": {
   "display_name": "Python 3",
   "language": "python",
   "name": "python3"
  },
  "language_info": {
   "codemirror_mode": {
    "name": "ipython",
    "version": 3
   },
   "file_extension": ".py",
   "mimetype": "text/x-python",
   "name": "python",
   "nbconvert_exporter": "python",
   "pygments_lexer": "ipython3",
   "version": "3.7.4"
  }
 },
 "nbformat": 4,
 "nbformat_minor": 2
}
